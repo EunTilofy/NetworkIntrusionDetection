{
 "cells": [
  {
   "cell_type": "code",
   "execution_count": 1,
   "metadata": {},
   "outputs": [],
   "source": [
    "import pandas as pd\n",
    "import numpy as np\n",
    "import time\n",
    "from sklearn.feature_selection import VarianceThreshold\n",
    "from sklearn.model_selection import train_test_split\n",
    "from sklearn.preprocessing import MinMaxScaler\n",
    "from sklearn.tree import DecisionTreeClassifier\n",
    "import warnings\n",
    "import matplotlib.pyplot as plt\n",
    "from sklearn.decomposition import PCA\n",
    "from sklearn import tree\n",
    "from sklearn.naive_bayes import GaussianNB\n",
    "from sklearn.linear_model import LogisticRegression\n",
    "from sklearn.neighbors import KNeighborsClassifier\n",
    "from sklearn.preprocessing import RobustScaler\n",
    "from sklearn.ensemble import RandomForestClassifier, RandomForestRegressor\n",
    "from sklearn import svm\n",
    "from sklearn import metrics\n",
    "from sklearn.metrics import accuracy_score\n",
    "import xgboost as xgb\n",
    "import seaborn as sns\n",
    "from torch.optim import lr_scheduler"
   ]
  },
  {
   "cell_type": "code",
   "execution_count": 2,
   "metadata": {},
   "outputs": [
    {
     "name": "stderr",
     "output_type": "stream",
     "text": [
      "/var/folders/z5/9ww3z2cs05sdd9ppqbltwh5w0000gn/T/ipykernel_26484/182237501.py:1: DtypeWarning: Columns (7,9,13) have mixed types. Specify dtype option on import or set low_memory=False.\n",
      "  data = pd.read_csv('data/20230406.csv')\n"
     ]
    },
    {
     "data": {
      "text/plain": [
       "Index(['生成时间', '结束时间', '事件名称', '事件类型', '攻击结果', '威胁等级', '源IP', '源端口', '目的IP',\n",
       "       '目的端口', '设备来源', '发生次数', '规则ID', '响应码', '设备动作', '请求体', '响应体', '研判'],\n",
       "      dtype='object')"
      ]
     },
     "execution_count": 2,
     "metadata": {},
     "output_type": "execute_result"
    }
   ],
   "source": [
    "data = pd.read_csv('data/20230406.csv')\n",
    "\n",
    "data.columns"
   ]
  },
  {
   "cell_type": "code",
   "execution_count": 3,
   "metadata": {},
   "outputs": [
    {
     "name": "stdout",
     "output_type": "stream",
     "text": [
      "响应码 ['0' '--' '200' '404' '403' '302' '400' '405' '100' '406' '511' '401'\n",
      " '501' '502' '301' '500' '206' '505']\n"
     ]
    }
   ],
   "source": [
    "data['响应码'] = data['响应码'].astype(str)\n",
    "response_code_v = data['响应码'].unique()\n",
    "print(\"响应码\", response_code_v)"
   ]
  },
  {
   "cell_type": "code",
   "execution_count": 4,
   "metadata": {},
   "outputs": [
    {
     "name": "stdout",
     "output_type": "stream",
     "text": [
      "研判 ['非攻击' '攻击']\n"
     ]
    }
   ],
   "source": [
    "data = data[data['研判'] != '无法研判']\n",
    "label_v = data['研判'].unique()\n",
    "print(\"研判\", label_v)"
   ]
  },
  {
   "cell_type": "code",
   "execution_count": 5,
   "metadata": {},
   "outputs": [
    {
     "name": "stdout",
     "output_type": "stream",
     "text": [
      "研判 [0 1]\n",
      "设备动作 [0 1 2]\n"
     ]
    }
   ],
   "source": [
    "def setup_map (column_name):\n",
    "    tmp_map = dict()\n",
    "    tmp = tuple(data[column_name].unique())\n",
    "    for i in range(len(tmp)):\n",
    "        tmp_map[tmp[i]] = i\n",
    "    data[column_name] = data[column_name].map(tmp_map)\n",
    "\n",
    "setup_map('事件名称')\n",
    "setup_map('事件类型')\n",
    "setup_map('攻击结果')\n",
    "setup_map('设备来源')\n",
    "setup_map('规则ID')\n",
    "setup_map('响应码')\n",
    "setup_map('设备动作')\n",
    "setup_map('研判')\n",
    "\n",
    "label_v = data['研判'].unique()\n",
    "print(\"研判\", label_v)\n",
    "\n",
    "device_act_v = data['设备动作'].unique()\n",
    "print(\"设备动作\", device_act_v)\n"
   ]
  },
  {
   "cell_type": "code",
   "execution_count": 6,
   "metadata": {},
   "outputs": [
    {
     "name": "stdout",
     "output_type": "stream",
     "text": [
      "威胁等级 30718    1\n",
      "13248    0\n",
      "9307     1\n",
      "27368    1\n",
      "45481    2\n",
      "Name: 威胁等级, dtype: int64\n"
     ]
    }
   ],
   "source": [
    "threat_level_mapping = {'轻微': 0, '一般': 1, '较大': 2, '重大': 3}\n",
    "data['威胁等级'] = data['威胁等级'].map(threat_level_mapping)\n",
    "\n",
    "print('威胁等级', data['威胁等级'].sample(5))"
   ]
  },
  {
   "cell_type": "code",
   "execution_count": 7,
   "metadata": {},
   "outputs": [
    {
     "name": "stdout",
     "output_type": "stream",
     "text": [
      "事件类型 [ 0  1  2  3  4  5  6  7  8  9 10 11 12 13 14 15 16 17 18 19 20 21 22 23\n",
      " 24 25]\n",
      "攻击结果 [0 1 2]\n",
      "威胁等级 [2 1 0 3]\n",
      "响应码 [ 0  1  2  3  4  5  6  7  8  9 10 11 12 13 14 15 16 17]\n",
      "设备动作 [0 1 2]\n",
      "研判 [0 1]\n"
     ]
    }
   ],
   "source": [
    "event_type_v = data['事件类型'].unique()\n",
    "attack_res_v = data['攻击结果'].unique()\n",
    "threaten_lev_v = data['威胁等级'].unique()\n",
    "response_code_v = data['响应码'].unique()\n",
    "device_act_v = data['设备动作'].unique()\n",
    "label_v = data['研判'].unique()\n",
    "\n",
    "print(\"事件类型\", event_type_v)\n",
    "print(\"攻击结果\", attack_res_v)\n",
    "print(\"威胁等级\", threaten_lev_v)\n",
    "print(\"响应码\", response_code_v)\n",
    "print(\"设备动作\", device_act_v)\n",
    "print(\"研判\", label_v)"
   ]
  },
  {
   "cell_type": "code",
   "execution_count": 8,
   "metadata": {},
   "outputs": [
    {
     "data": {
      "text/plain": [
       "(47888, 16)"
      ]
     },
     "execution_count": 8,
     "metadata": {},
     "output_type": "execute_result"
    }
   ],
   "source": [
    "data = data.drop(['生成时间', '结束时间'], axis = 1)\n",
    "data.drop_duplicates(inplace=True)\n",
    "data.shape"
   ]
  },
  {
   "cell_type": "code",
   "execution_count": 9,
   "metadata": {},
   "outputs": [
    {
     "data": {
      "text/plain": [
       "事件名称    0\n",
       "事件类型    0\n",
       "攻击结果    0\n",
       "威胁等级    0\n",
       "源IP     0\n",
       "源端口     0\n",
       "目的IP    0\n",
       "目的端口    0\n",
       "设备来源    0\n",
       "发生次数    0\n",
       "规则ID    0\n",
       "响应码     0\n",
       "设备动作    0\n",
       "请求体     0\n",
       "响应体     0\n",
       "研判      0\n",
       "dtype: int64"
      ]
     },
     "execution_count": 9,
     "metadata": {},
     "output_type": "execute_result"
    }
   ],
   "source": [
    "data.isnull().sum()"
   ]
  },
  {
   "cell_type": "code",
   "execution_count": 10,
   "metadata": {},
   "outputs": [
    {
     "name": "stdout",
     "output_type": "stream",
     "text": [
      "0\n"
     ]
    }
   ],
   "source": [
    "data['响应体'] = data['响应体'].fillna('')\n",
    "print(data['响应体'].isnull().sum())"
   ]
  },
  {
   "cell_type": "code",
   "execution_count": 11,
   "metadata": {},
   "outputs": [
    {
     "name": "stdout",
     "output_type": "stream",
     "text": [
      "header =  Host: 112.13.167.114:8088\n",
      "User-Agent: Mozilla/5.0 (Windows NT 10.0; Win64; x64) AppleWebKit/537.36 (KHTML, like Gecko) Chrome/104.0.0.0 Safari/537.36\n",
      "Content-Length: 105\n",
      "Accept: text/html,application/xhtml xml,application/xml;q=0.9,image/avif,image/webp,image/apng,*/*;q=0.8,application/signed-exchange;v=b3;q=0.9\n",
      "Accept-Language: zh-CN,zh;q=0.9\n",
      "Connection: close\n",
      "Content-Type: application/x-www-form-urlencoded; charset=UTF-8\n",
      "Accept-Encoding: gzip\n",
      "body =  X-Requested-With: XMLHttpRequest<?xml version=\"1.0\" encoding=\"UTF-8\"?><language>$(echo tbxyn${bwdlq}ccabu^uunzq>webLib/uunzq)</language>\n",
      "User-Agent =  User-Agent: Mozilla/5.0 (Windows NT 10.0; Win64; x64) AppleWebKit/537.36 (KHTML, like Gecko) Chrome/104.0.0.0 Safari/537.36\n",
      "Host =  Host: 112.13.167.114:8088\n"
     ]
    }
   ],
   "source": [
    "def get_var(x):\n",
    "    cnt = {}\n",
    "    for c in x:\n",
    "        if(c != ' '):\n",
    "            cnt[c] = cnt.get(c, 0) + 1\n",
    "    if(len(cnt) == 0):\n",
    "        return 0\n",
    "    mean_count = sum(cnt.values()) / len(cnt)\n",
    "    sd = [(count - mean_count)**2 for count in cnt.values()]\n",
    "    var = sum(sd) / len(cnt)\n",
    "    return var\n",
    "\n",
    "def get_len1(x): # rst line length\n",
    "    if(x == '') :\n",
    "        return 0\n",
    "    else:\n",
    "        return len(x.splitlines()[0])\n",
    "    \n",
    "def get_var1(x): # rst line char variance\n",
    "    if(x == ''):\n",
    "        return 0\n",
    "    else:\n",
    "        return get_var(x.splitlines()[0])\n",
    "    \n",
    "\n",
    "http_headers = [\n",
    "    'Cache-Control', 'Connection', 'Date', 'Pragma', 'Trailer', 'Transfer-Encoding', 'Upgrade', 'Via', 'Warning',\n",
    "    'Accept', 'Accept-Charset', 'Accept-Encoding', 'Accept-Language', 'Authorization', 'Expect', 'From', 'Host',\n",
    "    'If-Match', 'If-Modified-Since', 'If-None-Match', 'If-Range', 'If-Unmodified-Since', 'Max-Forwards',\n",
    "    'Proxy-Authorization', 'Range', 'Referer', 'TE', 'User-Agent',\n",
    "    'Accept-Ranges', 'Age', 'ETag', 'Location', 'Proxy-Authenticate', 'Retry-After', 'Server', 'Vary', 'WWW-Authenticate',\n",
    "    'Allow', 'Content-Encoding', 'Content-Language', 'Content-Length', 'Content-Location', 'Content-MD5', 'Content-Range',\n",
    "    'Content-Type', 'Expires', 'Last-Modified'\n",
    "]\n",
    "\n",
    "def get_body(x):\n",
    "    lines = x.splitlines()[1:]\n",
    "    filtered_lines = [line for line in lines if not any(header in line for header in http_headers)]\n",
    "    return ''.join(filtered_lines)\n",
    "\n",
    "def get_header(x):\n",
    "    lines = x.splitlines()[1:]\n",
    "    filtered_lines = [line for line in lines if any(header in line for header in http_headers)]\n",
    "    return '\\n'.join(filtered_lines)\n",
    "\n",
    "def get_user_agent(x):\n",
    "    lines = x.splitlines()[1:]\n",
    "    filtered_lines = [line for line in lines if ('User-Agent' in line)]\n",
    "    return '\\n'.join(filtered_lines)\n",
    "\n",
    "def get_host(x):\n",
    "    lines = x.splitlines()[1:]\n",
    "    filtered_lines = [line for line in lines if ('Host' in line)]\n",
    "    return '\\n'.join(filtered_lines)\n",
    "\n",
    "def get_var2(x): # body char variance\n",
    "    if(x == ''):\n",
    "        return 0\n",
    "    else:\n",
    "        return get_var(get_body(x))\n",
    "\n",
    "def get_var3(x): # header variance\n",
    "    if(x == ''):\n",
    "        return 0\n",
    "    else:\n",
    "        return get_var(get_header(x))\n",
    "    \n",
    "def get_var4(x): # header User-Agent variance\n",
    "    if(x == ''):\n",
    "        return 0\n",
    "    else:\n",
    "        return get_var(get_user_agent(x))\n",
    "    \n",
    "def get_var5(x): # header Host variance\n",
    "    if(x == ''):\n",
    "        return 0\n",
    "    else:\n",
    "        return get_var(get_host(x))\n",
    "    \n",
    "def get_len2(x): # header User-Agent len\n",
    "    if(x == ''):\n",
    "        return 0\n",
    "    else:\n",
    "        return len(get_user_agent(x))\n",
    "    \n",
    "def get_len3(x): # header Host len\n",
    "    if(x == ''):\n",
    "        return 0\n",
    "    else:\n",
    "        return len(get_host(x))\n",
    "    \n",
    "# test get_header\n",
    "print('header = ', get_header((data[data['研判'] == 1].head(1))['请求体'].values[0]))\n",
    "\n",
    "# test get_body\n",
    "print('body = ', get_body((data[data['研判'] == 1].head(1))['请求体'].values[0]))\n",
    "\n",
    "# test user-agent\n",
    "print('User-Agent = ', get_user_agent((data[data['研判'] == 1].head(1))['请求体'].values[0]))\n",
    "\n",
    "# test host\n",
    "print('Host = ', get_host((data[data['研判'] == 1].head(1))['请求体'].values[0]))\n"
   ]
  },
  {
   "cell_type": "code",
   "execution_count": 12,
   "metadata": {},
   "outputs": [],
   "source": [
    "rstlinelen = data['请求体'].apply(lambda x : get_len1(x))\n",
    "useragentlen = data['请求体'].apply(lambda x : get_len2(x))\n",
    "hostlen = data['请求体'].apply(lambda x : get_len3(x))\n",
    "rstlinevar = data['请求体'].apply(lambda x : get_var1(x))\n",
    "bodyvar = data['请求体'].apply(lambda x : get_var2(x))\n",
    "headervar = data['请求体'].apply(lambda x : get_var3(x))\n",
    "useragnetvar = data['请求体'].apply(lambda x : get_var4(x))\n",
    "hostvar = data['请求体'].apply(lambda x : get_var5(x))\n",
    "resvar = data['响应体'].apply(lambda x : get_var(x))"
   ]
  },
  {
   "cell_type": "code",
   "execution_count": 13,
   "metadata": {},
   "outputs": [
    {
     "name": "stdout",
     "output_type": "stream",
     "text": [
      "Index(['事件名称', '事件类型', '攻击结果', '威胁等级', '源IP', '源端口', '目的IP', '目的端口', '设备来源',\n",
      "       '发生次数', '规则ID', '响应码', '设备动作', '研判', 'rstline_len', 'useragent_len',\n",
      "       'hostlen', 'rstlinevar', 'bodyvar', 'headervar', 'useragentvar',\n",
      "       'hostvar', 'resvar'],\n",
      "      dtype='object')\n",
      "(47888, 23)\n"
     ]
    }
   ],
   "source": [
    "data['rstline_len'] = rstlinelen\n",
    "data['useragent_len'] = useragentlen\n",
    "data['hostlen'] = hostlen\n",
    "data['rstlinevar'] = rstlinevar\n",
    "data['bodyvar'] = bodyvar\n",
    "data['headervar'] = headervar\n",
    "data['useragentvar'] = useragentlen\n",
    "data['hostvar'] = hostvar\n",
    "data['resvar'] = resvar\n",
    "\n",
    "data = data.drop(['请求体', '响应体'], axis=1)\n",
    "\n",
    "print(data.columns)\n",
    "print(data.shape)"
   ]
  },
  {
   "cell_type": "code",
   "execution_count": 14,
   "metadata": {},
   "outputs": [],
   "source": [
    "def GetNUM(x):\n",
    "    ret = 1\n",
    "    for c in x:\n",
    "        if c == ',':\n",
    "            ret += 1\n",
    "    return ret\n",
    "\n",
    "data['目的端口'] = data['目的端口'].apply(lambda x: GetNUM(str(x)))\n",
    "data['源端口'] = data['源端口'].apply(lambda x : GetNUM(str(x)))"
   ]
  },
  {
   "cell_type": "code",
   "execution_count": 15,
   "metadata": {},
   "outputs": [
    {
     "name": "stdout",
     "output_type": "stream",
     "text": [
      "100 100\n"
     ]
    }
   ],
   "source": [
    "print(max(data['目的端口']), max(data['源端口']))"
   ]
  },
  {
   "cell_type": "code",
   "execution_count": 16,
   "metadata": {},
   "outputs": [
    {
     "data": {
      "text/plain": [
       "26295    112.17.44.76(112.17.44.76)ip:112.17.44.76\\n中国,...\n",
       "48553                                      1.117.84.70\\n中国\n",
       "5824                       193.201.186.110\\n英国,英格兰,索__敦自治市\n",
       "31746    112.17.44.75(112.17.44.75)ip:112.17.44.75\\n中国,...\n",
       "33630                              111.1.207.229\\n中国,浙江,温州\n",
       "6614                                   117.180.185.150\\n中国\n",
       "3375                             122.224.146.227\\n中国,浙江,杭州\n",
       "30064                                   36.138.140.208\\n中国\n",
       "36964                              39.184.73.161\\n中国,浙江,台州\n",
       "43913                             117.147.42.114\\n中国,浙江,杭州\n",
       "Name: 源IP, dtype: object"
      ]
     },
     "execution_count": 16,
     "metadata": {},
     "output_type": "execute_result"
    }
   ],
   "source": [
    "data['源IP'].sample(10)"
   ]
  },
  {
   "cell_type": "code",
   "execution_count": 17,
   "metadata": {},
   "outputs": [
    {
     "name": "stdout",
     "output_type": "stream",
     "text": [
      "2538605867\n",
      "法国,上法兰西大区,鲁贝\n"
     ]
    }
   ],
   "source": [
    "def getPosition(x):\n",
    "    return x.splitlines()[1]\n",
    "\n",
    "def getIPasInt(x):\n",
    "    x = x.splitlines()[0]\n",
    "    num = [0, 0, 0, 0]\n",
    "    id = 0\n",
    "    for c in x:\n",
    "        if(c <= '9' and c >= '0'):\n",
    "            num[id] = num[id] * 10 + (int(c) - int('0'))\n",
    "        else:\n",
    "            id += 1\n",
    "        if (id == 4):\n",
    "            break\n",
    "    return num[0]*(256**3) + num[1]*(256**2) + num[2]*256 + num[3]\n",
    "\n",
    "print(getIPasInt('151.80.13.43\\n法国,上法兰西大区,鲁贝'))\n",
    "print(getPosition('151.80.13.43\\n法国,上法兰西大区,鲁贝'))"
   ]
  },
  {
   "cell_type": "code",
   "execution_count": 18,
   "metadata": {},
   "outputs": [
    {
     "data": {
      "text/plain": [
       "Index(['事件名称', '事件类型', '攻击结果', '威胁等级', '源端口', '目的端口', '设备来源', '发生次数', '规则ID',\n",
       "       '响应码', '设备动作', '研判', 'rstline_len', 'useragent_len', 'hostlen',\n",
       "       'rstlinevar', 'bodyvar', 'headervar', 'useragentvar', 'hostvar',\n",
       "       'resvar', 'srcIPcity', 'desIPcity', 'srcIP', 'desIP'],\n",
       "      dtype='object')"
      ]
     },
     "execution_count": 18,
     "metadata": {},
     "output_type": "execute_result"
    }
   ],
   "source": [
    "data['srcIPcity'] = data['源IP'].apply(lambda x : getPosition(x))\n",
    "data['desIPcity'] = data['目的IP'].apply(lambda x : getPosition(x))\n",
    "\n",
    "data['srcIP'] = data['源IP'].apply(lambda x : getIPasInt(x))\n",
    "data['desIP'] = data['目的IP'].apply(lambda x : getIPasInt(x))\n",
    "\n",
    "data = data.drop(['源IP','目的IP'],axis=1)\n",
    "data.columns"
   ]
  },
  {
   "cell_type": "code",
   "execution_count": 19,
   "metadata": {},
   "outputs": [
    {
     "data": {
      "text/plain": [
       "事件名称               int64\n",
       "事件类型               int64\n",
       "攻击结果               int64\n",
       "威胁等级               int64\n",
       "源端口                int64\n",
       "目的端口               int64\n",
       "设备来源               int64\n",
       "发生次数               int64\n",
       "规则ID               int64\n",
       "响应码                int64\n",
       "设备动作               int64\n",
       "研判                 int64\n",
       "rstline_len        int64\n",
       "useragent_len      int64\n",
       "hostlen            int64\n",
       "rstlinevar       float64\n",
       "bodyvar          float64\n",
       "headervar        float64\n",
       "useragentvar       int64\n",
       "hostvar          float64\n",
       "resvar           float64\n",
       "srcIPcity         object\n",
       "desIPcity         object\n",
       "srcIP              int64\n",
       "desIP              int64\n",
       "dtype: object"
      ]
     },
     "execution_count": 19,
     "metadata": {},
     "output_type": "execute_result"
    }
   ],
   "source": [
    "data.dtypes"
   ]
  },
  {
   "cell_type": "code",
   "execution_count": 20,
   "metadata": {},
   "outputs": [
    {
     "data": {
      "image/png": "[encoded data removed]",
      "text/plain": [
       "<Figure size 640x480 with 1 Axes>"
      ]
     },
     "metadata": {},
     "output_type": "display_data"
    }
   ],
   "source": [
    "percentage = data['研判'].value_counts(normalize=True) * 100\n",
    "plt.pie(percentage, labels=['non-attack','attack'], autopct='%1.1f%%', startangle=90, colors=['#66b3ff', '#99ff99'])\n",
    "plt.axis('equal')\n",
    "plt.show()"
   ]
  },
  {
   "cell_type": "code",
   "execution_count": 21,
   "metadata": {},
   "outputs": [],
   "source": [
    "need_one_hot_columns = ['srcIPcity', 'desIPcity', '事件名称','事件类型','攻击结果','响应码','设备来源','规则ID','响应码','设备动作']\n",
    "data_encoded = pd.get_dummies(data, columns=need_one_hot_columns)"
   ]
  },
  {
   "cell_type": "code",
   "execution_count": 22,
   "metadata": {},
   "outputs": [],
   "source": [
    "x = data_encoded.drop('研判', axis=1)\n",
    "y = data_encoded['研判']\n",
    "\n",
    "x_train, x_test, y_train, y_test = train_test_split(x, y, test_size=0.2, random_state=42)"
   ]
  },
  {
   "cell_type": "code",
   "execution_count": 23,
   "metadata": {},
   "outputs": [],
   "source": [
    "kernal_evals = dict()\n",
    "def evaluate_classification(model, name, X_train, X_test, y_train, y_test):\n",
    "    train_accuracy = metrics.accuracy_score(y_train, model.predict(X_train))\n",
    "    test_accuracy = metrics.accuracy_score(y_test, model.predict(X_test))\n",
    "    \n",
    "    train_precision = metrics.precision_score(y_train, model.predict(X_train))\n",
    "    test_precision = metrics.precision_score(y_test, model.predict(X_test))\n",
    "    \n",
    "    train_recall = metrics.recall_score(y_train, model.predict(X_train))\n",
    "    test_recall = metrics.recall_score(y_test, model.predict(X_test))\n",
    "    \n",
    "    kernal_evals[str(name)] = [train_accuracy, test_accuracy, train_precision, test_precision, train_recall, test_recall]\n",
    "    print(\"Training Accuracy \" + str(name) + \" {}  Test Accuracy \".format(train_accuracy*100) + str(name) + \" {}\".format(test_accuracy*100))\n",
    "    print(\"Training Precesion \" + str(name) + \" {}  Test Precesion \".format(train_precision*100) + str(name) + \" {}\".format(test_precision*100))\n",
    "    print(\"Training Recall \" + str(name) + \" {}  Test Recall \".format(train_recall*100) + str(name) + \" {}\".format(test_recall*100))\n",
    "    \n",
    "    actual = y_test\n",
    "    predicted = model.predict(X_test)\n",
    "    confusion_matrix = metrics.confusion_matrix(actual, predicted)\n",
    "    cm_display = metrics.ConfusionMatrixDisplay(confusion_matrix = confusion_matrix, display_labels = ['non-attack', 'attack'])\n",
    "\n",
    "    fig, ax = plt.subplots(figsize=(10,10))\n",
    "    ax.grid(False)\n",
    "    cm_display.plot(ax=ax)"
   ]
  },
  {
   "cell_type": "code",
   "execution_count": 24,
   "metadata": {},
   "outputs": [
    {
     "name": "stdout",
     "output_type": "stream",
     "text": [
      "Training Accuracy DecisionTreeClassifier 100.0  Test Accuracy DecisionTreeClassifier 99.43620797661306\n",
      "Training Precesion DecisionTreeClassifier 100.0  Test Precesion DecisionTreeClassifier 85.77777777777777\n",
      "Training Recall DecisionTreeClassifier 100.0  Test Recall DecisionTreeClassifier 89.76744186046511\n"
     ]
    },
    {
     "data": {
      "image/png": "[encoded data removed]",
      "text/plain": [
       "<Figure size 1000x1000 with 2 Axes>"
      ]
     },
     "metadata": {},
     "output_type": "display_data"
    }
   ],
   "source": [
    "dt = DecisionTreeClassifier(max_depth=6).fit(x_train, y_train)\n",
    "tdt = DecisionTreeClassifier().fit(x_train, y_train)\n",
    "evaluate_classification(tdt, \"DecisionTreeClassifier\", x_train, x_test, y_train, y_test)"
   ]
  }
 ],
 "metadata": {
  "kernelspec": {
   "display_name": "Python 3",
   "language": "python",
   "name": "python3"
  },
  "language_info": {
   "codemirror_mode": {
    "name": "ipython",
    "version": 3
   },
   "file_extension": ".py",
   "mimetype": "text/x-python",
   "name": "python",
   "nbconvert_exporter": "python",
   "pygments_lexer": "ipython3",
   "version": "3.11.6"
  }
 },
 "nbformat": 4,
 "nbformat_minor": 2
}
